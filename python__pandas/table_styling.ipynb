{
 "cells": [
  {
   "cell_type": "markdown",
   "id": "30e53090",
   "metadata": {},
   "source": [
    "# Отображение DataFrame слева направо"
   ]
  },
  {
   "cell_type": "code",
   "execution_count": 2,
   "id": "deedc6e4",
   "metadata": {},
   "outputs": [
    {
     "name": "stdout",
     "output_type": "stream",
     "text": [
      "Исходный DataFrame:\n",
      "        A  B  C\n",
      "row1  1.0  4  x\n",
      "row2  2.0  5  y\n",
      "row3  3.0  6  z\n",
      "\n",
      "Транспонированный DataFrame:\n",
      "  row1 row2 row3\n",
      "A  1.0  2.0  3.0\n",
      "B    4    5    6\n",
      "C    x    y    z\n"
     ]
    }
   ],
   "source": [
    "import pandas as pd\n",
    "\n",
    "# Создаем пример DataFrame\n",
    "df = pd.DataFrame({\n",
    "    \"A\": [1.0, 2.0, 3.0],\n",
    "    \"B\": [4, 5, 6],\n",
    "    \"C\": [\"x\", \"y\", \"z\"]\n",
    "}, index=[\"row1\", \"row2\", \"row3\"])\n",
    "\n",
    "print(\"Исходный DataFrame:\")\n",
    "print(df)\n",
    "\n",
    "print(\"\\nТранспонированный DataFrame:\")\n",
    "print(df.T)  # или df.transpose()"
   ]
  }
 ],
 "metadata": {
  "kernelspec": {
   "display_name": "venv",
   "language": "python",
   "name": "python3"
  },
  "language_info": {
   "codemirror_mode": {
    "name": "ipython",
    "version": 3
   },
   "file_extension": ".py",
   "mimetype": "text/x-python",
   "name": "python",
   "nbconvert_exporter": "python",
   "pygments_lexer": "ipython3",
   "version": "3.13.9"
  }
 },
 "nbformat": 4,
 "nbformat_minor": 5
}
